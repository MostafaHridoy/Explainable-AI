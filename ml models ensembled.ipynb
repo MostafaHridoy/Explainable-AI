{
  "cells": [
    {
      "cell_type": "code",
      "execution_count": null,
      "metadata": {
        "id": "G4WNCeW5qw5S"
      },
      "outputs": [],
      "source": [
        "import pandas as pd\n",
        "import numpy as np\n",
        "import seaborn as sns\n",
        "import matplotlib.pyplot as plt\n",
        "from sklearn.model_selection import train_test_split\n",
        "from sklearn.preprocessing import StandardScaler,LabelEncoder"
      ]
    },
    {
      "cell_type": "code",
      "execution_count": null,
      "metadata": {
        "id": "-3k5lw_jreYT"
      },
      "outputs": [],
      "source": [
        "df=pd.read_csv(\"/content/healthcare-dataset-stroke-data.csv\")"
      ]
    },
    {
      "cell_type": "code",
      "execution_count": null,
      "metadata": {
        "id": "eQaNQs_BjTmp"
      },
      "outputs": [],
      "source": [
        "df=df.drop(['id'],axis=1)"
      ]
    },
    {
      "cell_type": "code",
      "execution_count": null,
      "metadata": {
        "colab": {
          "base_uri": "https://localhost:8080/",
          "height": 261
        },
        "id": "rG9XQ6v5rjPh",
        "outputId": "7091e347-8c3e-4dc6-a46f-76dc22a78921"
      },
      "outputs": [
        {
          "output_type": "execute_result",
          "data": {
            "text/plain": [
              "   gender   age  hypertension  heart_disease ever_married      work_type  \\\n",
              "0  Female  77.0             1              0          Yes  Self-employed   \n",
              "1  Female  38.0             0              0          Yes        Private   \n",
              "2    Male  55.0             0              0          Yes        Private   \n",
              "3    Male  82.0             0              1          Yes        Private   \n",
              "4  Female  80.0             0              1          Yes  Self-employed   \n",
              "\n",
              "  Residence_type  avg_glucose_level   bmi   smoking_status stroke  \n",
              "0          Urban             124.13  31.4     never smoked    Yes  \n",
              "1          Rural              66.16  42.7          Unknown     No  \n",
              "2          Rural             232.81  28.8          Unknown     No  \n",
              "3          Rural             208.30  32.5          Unknown    Yes  \n",
              "4          Rural              66.72  21.7  formerly smoked    Yes  "
            ],
            "text/html": [
              "\n",
              "  <div id=\"df-5cf25aa5-a17f-4ffc-97fc-b07dacfcedea\" class=\"colab-df-container\">\n",
              "    <div>\n",
              "<style scoped>\n",
              "    .dataframe tbody tr th:only-of-type {\n",
              "        vertical-align: middle;\n",
              "    }\n",
              "\n",
              "    .dataframe tbody tr th {\n",
              "        vertical-align: top;\n",
              "    }\n",
              "\n",
              "    .dataframe thead th {\n",
              "        text-align: right;\n",
              "    }\n",
              "</style>\n",
              "<table border=\"1\" class=\"dataframe\">\n",
              "  <thead>\n",
              "    <tr style=\"text-align: right;\">\n",
              "      <th></th>\n",
              "      <th>gender</th>\n",
              "      <th>age</th>\n",
              "      <th>hypertension</th>\n",
              "      <th>heart_disease</th>\n",
              "      <th>ever_married</th>\n",
              "      <th>work_type</th>\n",
              "      <th>Residence_type</th>\n",
              "      <th>avg_glucose_level</th>\n",
              "      <th>bmi</th>\n",
              "      <th>smoking_status</th>\n",
              "      <th>stroke</th>\n",
              "    </tr>\n",
              "  </thead>\n",
              "  <tbody>\n",
              "    <tr>\n",
              "      <th>0</th>\n",
              "      <td>Female</td>\n",
              "      <td>77.0</td>\n",
              "      <td>1</td>\n",
              "      <td>0</td>\n",
              "      <td>Yes</td>\n",
              "      <td>Self-employed</td>\n",
              "      <td>Urban</td>\n",
              "      <td>124.13</td>\n",
              "      <td>31.4</td>\n",
              "      <td>never smoked</td>\n",
              "      <td>Yes</td>\n",
              "    </tr>\n",
              "    <tr>\n",
              "      <th>1</th>\n",
              "      <td>Female</td>\n",
              "      <td>38.0</td>\n",
              "      <td>0</td>\n",
              "      <td>0</td>\n",
              "      <td>Yes</td>\n",
              "      <td>Private</td>\n",
              "      <td>Rural</td>\n",
              "      <td>66.16</td>\n",
              "      <td>42.7</td>\n",
              "      <td>Unknown</td>\n",
              "      <td>No</td>\n",
              "    </tr>\n",
              "    <tr>\n",
              "      <th>2</th>\n",
              "      <td>Male</td>\n",
              "      <td>55.0</td>\n",
              "      <td>0</td>\n",
              "      <td>0</td>\n",
              "      <td>Yes</td>\n",
              "      <td>Private</td>\n",
              "      <td>Rural</td>\n",
              "      <td>232.81</td>\n",
              "      <td>28.8</td>\n",
              "      <td>Unknown</td>\n",
              "      <td>No</td>\n",
              "    </tr>\n",
              "    <tr>\n",
              "      <th>3</th>\n",
              "      <td>Male</td>\n",
              "      <td>82.0</td>\n",
              "      <td>0</td>\n",
              "      <td>1</td>\n",
              "      <td>Yes</td>\n",
              "      <td>Private</td>\n",
              "      <td>Rural</td>\n",
              "      <td>208.30</td>\n",
              "      <td>32.5</td>\n",
              "      <td>Unknown</td>\n",
              "      <td>Yes</td>\n",
              "    </tr>\n",
              "    <tr>\n",
              "      <th>4</th>\n",
              "      <td>Female</td>\n",
              "      <td>80.0</td>\n",
              "      <td>0</td>\n",
              "      <td>1</td>\n",
              "      <td>Yes</td>\n",
              "      <td>Self-employed</td>\n",
              "      <td>Rural</td>\n",
              "      <td>66.72</td>\n",
              "      <td>21.7</td>\n",
              "      <td>formerly smoked</td>\n",
              "      <td>Yes</td>\n",
              "    </tr>\n",
              "  </tbody>\n",
              "</table>\n",
              "</div>\n",
              "    <div class=\"colab-df-buttons\">\n",
              "\n",
              "  <div class=\"colab-df-container\">\n",
              "    <button class=\"colab-df-convert\" onclick=\"convertToInteractive('df-5cf25aa5-a17f-4ffc-97fc-b07dacfcedea')\"\n",
              "            title=\"Convert this dataframe to an interactive table.\"\n",
              "            style=\"display:none;\">\n",
              "\n",
              "  <svg xmlns=\"http://www.w3.org/2000/svg\" height=\"24px\" viewBox=\"0 -960 960 960\">\n",
              "    <path d=\"M120-120v-720h720v720H120Zm60-500h600v-160H180v160Zm220 220h160v-160H400v160Zm0 220h160v-160H400v160ZM180-400h160v-160H180v160Zm440 0h160v-160H620v160ZM180-180h160v-160H180v160Zm440 0h160v-160H620v160Z\"/>\n",
              "  </svg>\n",
              "    </button>\n",
              "\n",
              "  <style>\n",
              "    .colab-df-container {\n",
              "      display:flex;\n",
              "      gap: 12px;\n",
              "    }\n",
              "\n",
              "    .colab-df-convert {\n",
              "      background-color: #E8F0FE;\n",
              "      border: none;\n",
              "      border-radius: 50%;\n",
              "      cursor: pointer;\n",
              "      display: none;\n",
              "      fill: #1967D2;\n",
              "      height: 32px;\n",
              "      padding: 0 0 0 0;\n",
              "      width: 32px;\n",
              "    }\n",
              "\n",
              "    .colab-df-convert:hover {\n",
              "      background-color: #E2EBFA;\n",
              "      box-shadow: 0px 1px 2px rgba(60, 64, 67, 0.3), 0px 1px 3px 1px rgba(60, 64, 67, 0.15);\n",
              "      fill: #174EA6;\n",
              "    }\n",
              "\n",
              "    .colab-df-buttons div {\n",
              "      margin-bottom: 4px;\n",
              "    }\n",
              "\n",
              "    [theme=dark] .colab-df-convert {\n",
              "      background-color: #3B4455;\n",
              "      fill: #D2E3FC;\n",
              "    }\n",
              "\n",
              "    [theme=dark] .colab-df-convert:hover {\n",
              "      background-color: #434B5C;\n",
              "      box-shadow: 0px 1px 3px 1px rgba(0, 0, 0, 0.15);\n",
              "      filter: drop-shadow(0px 1px 2px rgba(0, 0, 0, 0.3));\n",
              "      fill: #FFFFFF;\n",
              "    }\n",
              "  </style>\n",
              "\n",
              "    <script>\n",
              "      const buttonEl =\n",
              "        document.querySelector('#df-5cf25aa5-a17f-4ffc-97fc-b07dacfcedea button.colab-df-convert');\n",
              "      buttonEl.style.display =\n",
              "        google.colab.kernel.accessAllowed ? 'block' : 'none';\n",
              "\n",
              "      async function convertToInteractive(key) {\n",
              "        const element = document.querySelector('#df-5cf25aa5-a17f-4ffc-97fc-b07dacfcedea');\n",
              "        const dataTable =\n",
              "          await google.colab.kernel.invokeFunction('convertToInteractive',\n",
              "                                                    [key], {});\n",
              "        if (!dataTable) return;\n",
              "\n",
              "        const docLinkHtml = 'Like what you see? Visit the ' +\n",
              "          '<a target=\"_blank\" href=https://colab.research.google.com/notebooks/data_table.ipynb>data table notebook</a>'\n",
              "          + ' to learn more about interactive tables.';\n",
              "        element.innerHTML = '';\n",
              "        dataTable['output_type'] = 'display_data';\n",
              "        await google.colab.output.renderOutput(dataTable, element);\n",
              "        const docLink = document.createElement('div');\n",
              "        docLink.innerHTML = docLinkHtml;\n",
              "        element.appendChild(docLink);\n",
              "      }\n",
              "    </script>\n",
              "  </div>\n",
              "\n",
              "\n",
              "<div id=\"df-1fa80d43-87ad-4834-a9d2-7944352f5f93\">\n",
              "  <button class=\"colab-df-quickchart\" onclick=\"quickchart('df-1fa80d43-87ad-4834-a9d2-7944352f5f93')\"\n",
              "            title=\"Suggest charts.\"\n",
              "            style=\"display:none;\">\n",
              "\n",
              "<svg xmlns=\"http://www.w3.org/2000/svg\" height=\"24px\"viewBox=\"0 0 24 24\"\n",
              "     width=\"24px\">\n",
              "    <g>\n",
              "        <path d=\"M19 3H5c-1.1 0-2 .9-2 2v14c0 1.1.9 2 2 2h14c1.1 0 2-.9 2-2V5c0-1.1-.9-2-2-2zM9 17H7v-7h2v7zm4 0h-2V7h2v10zm4 0h-2v-4h2v4z\"/>\n",
              "    </g>\n",
              "</svg>\n",
              "  </button>\n",
              "\n",
              "<style>\n",
              "  .colab-df-quickchart {\n",
              "      --bg-color: #E8F0FE;\n",
              "      --fill-color: #1967D2;\n",
              "      --hover-bg-color: #E2EBFA;\n",
              "      --hover-fill-color: #174EA6;\n",
              "      --disabled-fill-color: #AAA;\n",
              "      --disabled-bg-color: #DDD;\n",
              "  }\n",
              "\n",
              "  [theme=dark] .colab-df-quickchart {\n",
              "      --bg-color: #3B4455;\n",
              "      --fill-color: #D2E3FC;\n",
              "      --hover-bg-color: #434B5C;\n",
              "      --hover-fill-color: #FFFFFF;\n",
              "      --disabled-bg-color: #3B4455;\n",
              "      --disabled-fill-color: #666;\n",
              "  }\n",
              "\n",
              "  .colab-df-quickchart {\n",
              "    background-color: var(--bg-color);\n",
              "    border: none;\n",
              "    border-radius: 50%;\n",
              "    cursor: pointer;\n",
              "    display: none;\n",
              "    fill: var(--fill-color);\n",
              "    height: 32px;\n",
              "    padding: 0;\n",
              "    width: 32px;\n",
              "  }\n",
              "\n",
              "  .colab-df-quickchart:hover {\n",
              "    background-color: var(--hover-bg-color);\n",
              "    box-shadow: 0 1px 2px rgba(60, 64, 67, 0.3), 0 1px 3px 1px rgba(60, 64, 67, 0.15);\n",
              "    fill: var(--button-hover-fill-color);\n",
              "  }\n",
              "\n",
              "  .colab-df-quickchart-complete:disabled,\n",
              "  .colab-df-quickchart-complete:disabled:hover {\n",
              "    background-color: var(--disabled-bg-color);\n",
              "    fill: var(--disabled-fill-color);\n",
              "    box-shadow: none;\n",
              "  }\n",
              "\n",
              "  .colab-df-spinner {\n",
              "    border: 2px solid var(--fill-color);\n",
              "    border-color: transparent;\n",
              "    border-bottom-color: var(--fill-color);\n",
              "    animation:\n",
              "      spin 1s steps(1) infinite;\n",
              "  }\n",
              "\n",
              "  @keyframes spin {\n",
              "    0% {\n",
              "      border-color: transparent;\n",
              "      border-bottom-color: var(--fill-color);\n",
              "      border-left-color: var(--fill-color);\n",
              "    }\n",
              "    20% {\n",
              "      border-color: transparent;\n",
              "      border-left-color: var(--fill-color);\n",
              "      border-top-color: var(--fill-color);\n",
              "    }\n",
              "    30% {\n",
              "      border-color: transparent;\n",
              "      border-left-color: var(--fill-color);\n",
              "      border-top-color: var(--fill-color);\n",
              "      border-right-color: var(--fill-color);\n",
              "    }\n",
              "    40% {\n",
              "      border-color: transparent;\n",
              "      border-right-color: var(--fill-color);\n",
              "      border-top-color: var(--fill-color);\n",
              "    }\n",
              "    60% {\n",
              "      border-color: transparent;\n",
              "      border-right-color: var(--fill-color);\n",
              "    }\n",
              "    80% {\n",
              "      border-color: transparent;\n",
              "      border-right-color: var(--fill-color);\n",
              "      border-bottom-color: var(--fill-color);\n",
              "    }\n",
              "    90% {\n",
              "      border-color: transparent;\n",
              "      border-bottom-color: var(--fill-color);\n",
              "    }\n",
              "  }\n",
              "</style>\n",
              "\n",
              "  <script>\n",
              "    async function quickchart(key) {\n",
              "      const quickchartButtonEl =\n",
              "        document.querySelector('#' + key + ' button');\n",
              "      quickchartButtonEl.disabled = true;  // To prevent multiple clicks.\n",
              "      quickchartButtonEl.classList.add('colab-df-spinner');\n",
              "      try {\n",
              "        const charts = await google.colab.kernel.invokeFunction(\n",
              "            'suggestCharts', [key], {});\n",
              "      } catch (error) {\n",
              "        console.error('Error during call to suggestCharts:', error);\n",
              "      }\n",
              "      quickchartButtonEl.classList.remove('colab-df-spinner');\n",
              "      quickchartButtonEl.classList.add('colab-df-quickchart-complete');\n",
              "    }\n",
              "    (() => {\n",
              "      let quickchartButtonEl =\n",
              "        document.querySelector('#df-1fa80d43-87ad-4834-a9d2-7944352f5f93 button');\n",
              "      quickchartButtonEl.style.display =\n",
              "        google.colab.kernel.accessAllowed ? 'block' : 'none';\n",
              "    })();\n",
              "  </script>\n",
              "</div>\n",
              "    </div>\n",
              "  </div>\n"
            ]
          },
          "metadata": {},
          "execution_count": 4
        }
      ],
      "source": [
        "df.head(5)"
      ]
    },
    {
      "cell_type": "code",
      "execution_count": null,
      "metadata": {
        "colab": {
          "base_uri": "https://localhost:8080/"
        },
        "id": "7WuPTiqmrwKI",
        "outputId": "2459f6ec-d006-4bf2-d092-b6d13e2ce462"
      },
      "outputs": [
        {
          "output_type": "execute_result",
          "data": {
            "text/plain": [
              "(9499, 11)"
            ]
          },
          "metadata": {},
          "execution_count": 5
        }
      ],
      "source": [
        "df.shape"
      ]
    },
    {
      "cell_type": "code",
      "execution_count": null,
      "metadata": {
        "colab": {
          "base_uri": "https://localhost:8080/",
          "height": 410
        },
        "id": "aENipAQYN8Im",
        "outputId": "dd0042ca-4f0d-4b17-b960-f72bbb4413dc"
      },
      "outputs": [
        {
          "output_type": "display_data",
          "data": {
            "text/plain": [
              "<Figure size 600x400 with 1 Axes>"
            ],
            "image/png": "[encoded data removed]"
          },
          "metadata": {}
        }
      ],
      "source": [
        "plt.figure(figsize=(6, 4))\n",
        "ax=sns.countplot(data=df, x='stroke', palette='Set1')\n",
        "\n",
        "for p in ax.patches:\n",
        "    ax.annotate(f'{p.get_height()}', (p.get_x() + p.get_width() / 2., p.get_height()), ha='center', va='bottom')\n",
        "\n",
        "plt.xlabel('Stroke')\n",
        "plt.ylabel('Count')\n",
        "plt.title('Distribution of Stroke Instances')\n",
        "plt.show()"
      ]
    },
    {
      "cell_type": "code",
      "execution_count": null,
      "metadata": {
        "colab": {
          "base_uri": "https://localhost:8080/"
        },
        "id": "yOzN0EuUO3aZ",
        "outputId": "f405a8e3-1ed7-464a-a437-78923a07111a"
      },
      "outputs": [
        {
          "output_type": "stream",
          "name": "stdout",
          "text": [
            "gender                 0\n",
            "age                    0\n",
            "hypertension           0\n",
            "heart_disease          0\n",
            "ever_married           0\n",
            "work_type              0\n",
            "Residence_type         0\n",
            "avg_glucose_level      0\n",
            "bmi                  201\n",
            "smoking_status         0\n",
            "stroke                 0\n",
            "dtype: int64\n"
          ]
        }
      ],
      "source": [
        "nan_counts = df.isna().sum()\n",
        "print(nan_counts)"
      ]
    },
    {
      "cell_type": "code",
      "execution_count": null,
      "metadata": {
        "id": "ht1DOPEkrmIy"
      },
      "outputs": [],
      "source": [
        "df=df.dropna()"
      ]
    },
    {
      "cell_type": "code",
      "execution_count": null,
      "metadata": {
        "colab": {
          "base_uri": "https://localhost:8080/"
        },
        "id": "zImA_kN2rpRC",
        "outputId": "e163dcb2-0df2-4e2c-afbd-5c8436a827ea"
      },
      "outputs": [
        {
          "output_type": "execute_result",
          "data": {
            "text/plain": [
              "(9298, 11)"
            ]
          },
          "metadata": {},
          "execution_count": 9
        }
      ],
      "source": [
        "df.shape"
      ]
    },
    {
      "cell_type": "code",
      "execution_count": null,
      "metadata": {
        "colab": {
          "base_uri": "https://localhost:8080/",
          "height": 410
        },
        "id": "-XgGCNeX1TPh",
        "outputId": "6c156095-ce95-4a38-dd8b-9526236e5aa9"
      },
      "outputs": [
        {
          "output_type": "display_data",
          "data": {
            "text/plain": [
              "<Figure size 600x400 with 1 Axes>"
            ],
            "image/png": "[encoded data removed]"
          },
          "metadata": {}
        }
      ],
      "source": [
        "plt.figure(figsize=(6, 4))\n",
        "ax=sns.countplot(data=df, x='stroke', palette='Set1')\n",
        "\n",
        "for p in ax.patches:\n",
        "    ax.annotate(f'{p.get_height()}', (p.get_x() + p.get_width() / 2., p.get_height()), ha='center', va='bottom')\n",
        "\n",
        "plt.xlabel('Stroke')\n",
        "plt.ylabel('Count')\n",
        "plt.title('Distribution of Stroke Instances')\n",
        "plt.show()\n"
      ]
    },
    {
      "cell_type": "code",
      "execution_count": null,
      "metadata": {
        "id": "6YQzlQuEsXeg"
      },
      "outputs": [],
      "source": [
        "def ReplaceOutliers(df):\n",
        "    numeric_columns = ['age', 'avg_glucose_level', 'bmi']\n",
        "    df[numeric_columns] = df[numeric_columns].apply(pd.to_numeric, errors='coerce')\n",
        "\n",
        "    for col in numeric_columns:\n",
        "        q1 = df[col].quantile(0.25)\n",
        "        q3 = df[col].quantile(0.75)\n",
        "        IQR = q3 - q1\n",
        "        upperBound = q3 + (1.5 * IQR)\n",
        "        lowerBound = q1 - (1.5 * IQR)\n",
        "        df[col] = np.where(df[col] > upperBound, upperBound,\n",
        "                           np.where(df[col] < lowerBound, lowerBound, df[col]))\n",
        "    return df"
      ]
    },
    {
      "cell_type": "code",
      "execution_count": null,
      "metadata": {
        "id": "bCFo-1MQsdHQ"
      },
      "outputs": [],
      "source": [
        "df=ReplaceOutliers(df)"
      ]
    },
    {
      "cell_type": "code",
      "execution_count": null,
      "metadata": {
        "colab": {
          "base_uri": "https://localhost:8080/"
        },
        "id": "8QOGTpwjsiQs",
        "outputId": "7191ede1-64f5-4aba-af17-96b0adbe0587"
      },
      "outputs": [
        {
          "output_type": "execute_result",
          "data": {
            "text/plain": [
              "(9298, 11)"
            ]
          },
          "metadata": {},
          "execution_count": 13
        }
      ],
      "source": [
        "df.shape"
      ]
    },
    {
      "cell_type": "code",
      "execution_count": null,
      "metadata": {
        "id": "JkA-eRufr3Ta"
      },
      "outputs": [],
      "source": [
        "label_encoder = LabelEncoder()\n",
        "df['stroke']=label_encoder.fit_transform(df['stroke'])\n",
        "df['smoking_status']=label_encoder.fit_transform(df['smoking_status'])\n",
        "df['Residence_type']=label_encoder.fit_transform(df['Residence_type'])\n",
        "df['work_type']=label_encoder.fit_transform(df['work_type'])\n",
        "df['gender']=label_encoder.fit_transform(df['gender'])\n",
        "df['ever_married']=label_encoder.fit_transform(df['ever_married'])"
      ]
    },
    {
      "cell_type": "code",
      "execution_count": null,
      "metadata": {
        "id": "Ue_fdqbgs18R"
      },
      "outputs": [],
      "source": [
        "from sklearn.preprocessing import StandardScaler\n",
        "sl = StandardScaler()\n",
        "columns_to_scale = ['age','avg_glucose_level','bmi']\n",
        "df[columns_to_scale]= sl.fit_transform(df[columns_to_scale])"
      ]
    },
    {
      "cell_type": "code",
      "execution_count": null,
      "metadata": {
        "colab": {
          "base_uri": "https://localhost:8080/",
          "height": 226
        },
        "id": "Xk_zA3MLs34Z",
        "outputId": "239ec1ce-15cc-4ac3-fe66-2e4e46ad9205"
      },
      "outputs": [
        {
          "output_type": "execute_result",
          "data": {
            "text/plain": [
              "   gender       age  hypertension  heart_disease  ever_married  work_type  \\\n",
              "0       0  1.007394             1              0             1          3   \n",
              "1       0 -0.746108             0              0             1          2   \n",
              "2       1  0.018239             0              0             1          2   \n",
              "3       1  1.232202             0              1             1          2   \n",
              "4       0  1.142279             0              1             1          3   \n",
              "\n",
              "   Residence_type  avg_glucose_level       bmi  smoking_status  stroke  \n",
              "0               1           0.095063  0.278763               2       1  \n",
              "1               0          -0.958314  1.944825               0       0  \n",
              "2               0           2.069896 -0.104579               0       0  \n",
              "3               0           1.624523  0.440946               0       1  \n",
              "4               0          -0.948138 -1.151397               1       1  "
            ],
            "text/html": [
              "\n",
              "  <div id=\"df-0cb31f23-a0dc-455c-81f6-c936d1038232\" class=\"colab-df-container\">\n",
              "    <div>\n",
              "<style scoped>\n",
              "    .dataframe tbody tr th:only-of-type {\n",
              "        vertical-align: middle;\n",
              "    }\n",
              "\n",
              "    .dataframe tbody tr th {\n",
              "        vertical-align: top;\n",
              "    }\n",
              "\n",
              "    .dataframe thead th {\n",
              "        text-align: right;\n",
              "    }\n",
              "</style>\n",
              "<table border=\"1\" class=\"dataframe\">\n",
              "  <thead>\n",
              "    <tr style=\"text-align: right;\">\n",
              "      <th></th>\n",
              "      <th>gender</th>\n",
              "      <th>age</th>\n",
              "      <th>hypertension</th>\n",
              "      <th>heart_disease</th>\n",
              "      <th>ever_married</th>\n",
              "      <th>work_type</th>\n",
              "      <th>Residence_type</th>\n",
              "      <th>avg_glucose_level</th>\n",
              "      <th>bmi</th>\n",
              "      <th>smoking_status</th>\n",
              "      <th>stroke</th>\n",
              "    </tr>\n",
              "  </thead>\n",
              "  <tbody>\n",
              "    <tr>\n",
              "      <th>0</th>\n",
              "      <td>0</td>\n",
              "      <td>1.007394</td>\n",
              "      <td>1</td>\n",
              "      <td>0</td>\n",
              "      <td>1</td>\n",
              "      <td>3</td>\n",
              "      <td>1</td>\n",
              "      <td>0.095063</td>\n",
              "      <td>0.278763</td>\n",
              "      <td>2</td>\n",
              "      <td>1</td>\n",
              "    </tr>\n",
              "    <tr>\n",
              "      <th>1</th>\n",
              "      <td>0</td>\n",
              "      <td>-0.746108</td>\n",
              "      <td>0</td>\n",
              "      <td>0</td>\n",
              "      <td>1</td>\n",
              "      <td>2</td>\n",
              "      <td>0</td>\n",
              "      <td>-0.958314</td>\n",
              "      <td>1.944825</td>\n",
              "      <td>0</td>\n",
              "      <td>0</td>\n",
              "    </tr>\n",
              "    <tr>\n",
              "      <th>2</th>\n",
              "      <td>1</td>\n",
              "      <td>0.018239</td>\n",
              "      <td>0</td>\n",
              "      <td>0</td>\n",
              "      <td>1</td>\n",
              "      <td>2</td>\n",
              "      <td>0</td>\n",
              "      <td>2.069896</td>\n",
              "      <td>-0.104579</td>\n",
              "      <td>0</td>\n",
              "      <td>0</td>\n",
              "    </tr>\n",
              "    <tr>\n",
              "      <th>3</th>\n",
              "      <td>1</td>\n",
              "      <td>1.232202</td>\n",
              "      <td>0</td>\n",
              "      <td>1</td>\n",
              "      <td>1</td>\n",
              "      <td>2</td>\n",
              "      <td>0</td>\n",
              "      <td>1.624523</td>\n",
              "      <td>0.440946</td>\n",
              "      <td>0</td>\n",
              "      <td>1</td>\n",
              "    </tr>\n",
              "    <tr>\n",
              "      <th>4</th>\n",
              "      <td>0</td>\n",
              "      <td>1.142279</td>\n",
              "      <td>0</td>\n",
              "      <td>1</td>\n",
              "      <td>1</td>\n",
              "      <td>3</td>\n",
              "      <td>0</td>\n",
              "      <td>-0.948138</td>\n",
              "      <td>-1.151397</td>\n",
              "      <td>1</td>\n",
              "      <td>1</td>\n",
              "    </tr>\n",
              "  </tbody>\n",
              "</table>\n",
              "</div>\n",
              "    <div class=\"colab-df-buttons\">\n",
              "\n",
              "  <div class=\"colab-df-container\">\n",
              "    <button class=\"colab-df-convert\" onclick=\"convertToInteractive('df-0cb31f23-a0dc-455c-81f6-c936d1038232')\"\n",
              "            title=\"Convert this dataframe to an interactive table.\"\n",
              "            style=\"display:none;\">\n",
              "\n",
              "  <svg xmlns=\"http://www.w3.org/2000/svg\" height=\"24px\" viewBox=\"0 -960 960 960\">\n",
              "    <path d=\"M120-120v-720h720v720H120Zm60-500h600v-160H180v160Zm220 220h160v-160H400v160Zm0 220h160v-160H400v160ZM180-400h160v-160H180v160Zm440 0h160v-160H620v160ZM180-180h160v-160H180v160Zm440 0h160v-160H620v160Z\"/>\n",
              "  </svg>\n",
              "    </button>\n",
              "\n",
              "  <style>\n",
              "    .colab-df-container {\n",
              "      display:flex;\n",
              "      gap: 12px;\n",
              "    }\n",
              "\n",
              "    .colab-df-convert {\n",
              "      background-color: #E8F0FE;\n",
              "      border: none;\n",
              "      border-radius: 50%;\n",
              "      cursor: pointer;\n",
              "      display: none;\n",
              "      fill: #1967D2;\n",
              "      height: 32px;\n",
              "      padding: 0 0 0 0;\n",
              "      width: 32px;\n",
              "    }\n",
              "\n",
              "    .colab-df-convert:hover {\n",
              "      background-color: #E2EBFA;\n",
              "      box-shadow: 0px 1px 2px rgba(60, 64, 67, 0.3), 0px 1px 3px 1px rgba(60, 64, 67, 0.15);\n",
              "      fill: #174EA6;\n",
              "    }\n",
              "\n",
              "    .colab-df-buttons div {\n",
              "      margin-bottom: 4px;\n",
              "    }\n",
              "\n",
              "    [theme=dark] .colab-df-convert {\n",
              "      background-color: #3B4455;\n",
              "      fill: #D2E3FC;\n",
              "    }\n",
              "\n",
              "    [theme=dark] .colab-df-convert:hover {\n",
              "      background-color: #434B5C;\n",
              "      box-shadow: 0px 1px 3px 1px rgba(0, 0, 0, 0.15);\n",
              "      filter: drop-shadow(0px 1px 2px rgba(0, 0, 0, 0.3));\n",
              "      fill: #FFFFFF;\n",
              "    }\n",
              "  </style>\n",
              "\n",
              "    <script>\n",
              "      const buttonEl =\n",
              "        document.querySelector('#df-0cb31f23-a0dc-455c-81f6-c936d1038232 button.colab-df-convert');\n",
              "      buttonEl.style.display =\n",
              "        google.colab.kernel.accessAllowed ? 'block' : 'none';\n",
              "\n",
              "      async function convertToInteractive(key) {\n",
              "        const element = document.querySelector('#df-0cb31f23-a0dc-455c-81f6-c936d1038232');\n",
              "        const dataTable =\n",
              "          await google.colab.kernel.invokeFunction('convertToInteractive',\n",
              "                                                    [key], {});\n",
              "        if (!dataTable) return;\n",
              "\n",
              "        const docLinkHtml = 'Like what you see? Visit the ' +\n",
              "          '<a target=\"_blank\" href=https://colab.research.google.com/notebooks/data_table.ipynb>data table notebook</a>'\n",
              "          + ' to learn more about interactive tables.';\n",
              "        element.innerHTML = '';\n",
              "        dataTable['output_type'] = 'display_data';\n",
              "        await google.colab.output.renderOutput(dataTable, element);\n",
              "        const docLink = document.createElement('div');\n",
              "        docLink.innerHTML = docLinkHtml;\n",
              "        element.appendChild(docLink);\n",
              "      }\n",
              "    </script>\n",
              "  </div>\n",
              "\n",
              "\n",
              "<div id=\"df-f9254dc6-d0c5-46de-9597-2a4512459634\">\n",
              "  <button class=\"colab-df-quickchart\" onclick=\"quickchart('df-f9254dc6-d0c5-46de-9597-2a4512459634')\"\n",
              "            title=\"Suggest charts.\"\n",
              "            style=\"display:none;\">\n",
              "\n",
              "<svg xmlns=\"http://www.w3.org/2000/svg\" height=\"24px\"viewBox=\"0 0 24 24\"\n",
              "     width=\"24px\">\n",
              "    <g>\n",
              "        <path d=\"M19 3H5c-1.1 0-2 .9-2 2v14c0 1.1.9 2 2 2h14c1.1 0 2-.9 2-2V5c0-1.1-.9-2-2-2zM9 17H7v-7h2v7zm4 0h-2V7h2v10zm4 0h-2v-4h2v4z\"/>\n",
              "    </g>\n",
              "</svg>\n",
              "  </button>\n",
              "\n",
              "<style>\n",
              "  .colab-df-quickchart {\n",
              "      --bg-color: #E8F0FE;\n",
              "      --fill-color: #1967D2;\n",
              "      --hover-bg-color: #E2EBFA;\n",
              "      --hover-fill-color: #174EA6;\n",
              "      --disabled-fill-color: #AAA;\n",
              "      --disabled-bg-color: #DDD;\n",
              "  }\n",
              "\n",
              "  [theme=dark] .colab-df-quickchart {\n",
              "      --bg-color: #3B4455;\n",
              "      --fill-color: #D2E3FC;\n",
              "      --hover-bg-color: #434B5C;\n",
              "      --hover-fill-color: #FFFFFF;\n",
              "      --disabled-bg-color: #3B4455;\n",
              "      --disabled-fill-color: #666;\n",
              "  }\n",
              "\n",
              "  .colab-df-quickchart {\n",
              "    background-color: var(--bg-color);\n",
              "    border: none;\n",
              "    border-radius: 50%;\n",
              "    cursor: pointer;\n",
              "    display: none;\n",
              "    fill: var(--fill-color);\n",
              "    height: 32px;\n",
              "    padding: 0;\n",
              "    width: 32px;\n",
              "  }\n",
              "\n",
              "  .colab-df-quickchart:hover {\n",
              "    background-color: var(--hover-bg-color);\n",
              "    box-shadow: 0 1px 2px rgba(60, 64, 67, 0.3), 0 1px 3px 1px rgba(60, 64, 67, 0.15);\n",
              "    fill: var(--button-hover-fill-color);\n",
              "  }\n",
              "\n",
              "  .colab-df-quickchart-complete:disabled,\n",
              "  .colab-df-quickchart-complete:disabled:hover {\n",
              "    background-color: var(--disabled-bg-color);\n",
              "    fill: var(--disabled-fill-color);\n",
              "    box-shadow: none;\n",
              "  }\n",
              "\n",
              "  .colab-df-spinner {\n",
              "    border: 2px solid var(--fill-color);\n",
              "    border-color: transparent;\n",
              "    border-bottom-color: var(--fill-color);\n",
              "    animation:\n",
              "      spin 1s steps(1) infinite;\n",
              "  }\n",
              "\n",
              "  @keyframes spin {\n",
              "    0% {\n",
              "      border-color: transparent;\n",
              "      border-bottom-color: var(--fill-color);\n",
              "      border-left-color: var(--fill-color);\n",
              "    }\n",
              "    20% {\n",
              "      border-color: transparent;\n",
              "      border-left-color: var(--fill-color);\n",
              "      border-top-color: var(--fill-color);\n",
              "    }\n",
              "    30% {\n",
              "      border-color: transparent;\n",
              "      border-left-color: var(--fill-color);\n",
              "      border-top-color: var(--fill-color);\n",
              "      border-right-color: var(--fill-color);\n",
              "    }\n",
              "    40% {\n",
              "      border-color: transparent;\n",
              "      border-right-color: var(--fill-color);\n",
              "      border-top-color: var(--fill-color);\n",
              "    }\n",
              "    60% {\n",
              "      border-color: transparent;\n",
              "      border-right-color: var(--fill-color);\n",
              "    }\n",
              "    80% {\n",
              "      border-color: transparent;\n",
              "      border-right-color: var(--fill-color);\n",
              "      border-bottom-color: var(--fill-color);\n",
              "    }\n",
              "    90% {\n",
              "      border-color: transparent;\n",
              "      border-bottom-color: var(--fill-color);\n",
              "    }\n",
              "  }\n",
              "</style>\n",
              "\n",
              "  <script>\n",
              "    async function quickchart(key) {\n",
              "      const quickchartButtonEl =\n",
              "        document.querySelector('#' + key + ' button');\n",
              "      quickchartButtonEl.disabled = true;  // To prevent multiple clicks.\n",
              "      quickchartButtonEl.classList.add('colab-df-spinner');\n",
              "      try {\n",
              "        const charts = await google.colab.kernel.invokeFunction(\n",
              "            'suggestCharts', [key], {});\n",
              "      } catch (error) {\n",
              "        console.error('Error during call to suggestCharts:', error);\n",
              "      }\n",
              "      quickchartButtonEl.classList.remove('colab-df-spinner');\n",
              "      quickchartButtonEl.classList.add('colab-df-quickchart-complete');\n",
              "    }\n",
              "    (() => {\n",
              "      let quickchartButtonEl =\n",
              "        document.querySelector('#df-f9254dc6-d0c5-46de-9597-2a4512459634 button');\n",
              "      quickchartButtonEl.style.display =\n",
              "        google.colab.kernel.accessAllowed ? 'block' : 'none';\n",
              "    })();\n",
              "  </script>\n",
              "</div>\n",
              "    </div>\n",
              "  </div>\n"
            ]
          },
          "metadata": {},
          "execution_count": 16
        }
      ],
      "source": [
        "df.head()"
      ]
    },
    {
      "cell_type": "code",
      "execution_count": null,
      "metadata": {
        "id": "eyb_1NVes7Wg"
      },
      "outputs": [],
      "source": [
        "X=df.drop('stroke',axis=1)\n",
        "Y=df['stroke']"
      ]
    },
    {
      "cell_type": "code",
      "execution_count": null,
      "metadata": {
        "colab": {
          "base_uri": "https://localhost:8080/"
        },
        "id": "PYFuff4vtBgg",
        "outputId": "1815e527-0421-4e78-caa6-22c945f0480a"
      },
      "outputs": [
        {
          "output_type": "stream",
          "name": "stdout",
          "text": [
            "X_train- 65080\n",
            "X_test- 27900\n",
            "y_train- 6508\n",
            "y_test- 2790\n"
          ]
        }
      ],
      "source": [
        "X_train, X_test,y_train, y_test=train_test_split(X,Y,test_size=0.3,random_state=42)\n",
        "\n",
        "print('X_train-', X_train.size)\n",
        "print('X_test-',X_test.size)\n",
        "print('y_train-', y_train.size)\n",
        "print('y_test-', y_test.size)"
      ]
    },
    {
      "cell_type": "code",
      "execution_count": null,
      "metadata": {
        "id": "AIO8tBUFtL-x"
      },
      "outputs": [],
      "source": [
        "from sklearn.metrics import confusion_matrix, accuracy_score, classification_report"
      ]
    },
    {
      "cell_type": "code",
      "execution_count": null,
      "metadata": {
        "id": "cjgcwQqt2ZOx"
      },
      "outputs": [],
      "source": [
        "accuracy=[]"
      ]
    },
    {
      "cell_type": "code",
      "execution_count": null,
      "metadata": {
        "colab": {
          "base_uri": "https://localhost:8080/"
        },
        "id": "pgklVVHetE5D",
        "outputId": "d892dc82-d62c-457c-eec5-048be9e40394"
      },
      "outputs": [
        {
          "output_type": "execute_result",
          "data": {
            "text/plain": [
              "array([[1355,   67],\n",
              "       [   0, 1368]])"
            ]
          },
          "metadata": {},
          "execution_count": 21
        }
      ],
      "source": [
        "from sklearn.ensemble import GradientBoostingClassifier\n",
        "from xgboost import XGBClassifier\n",
        "x=XGBClassifier()\n",
        "modelx=x.fit(X_train,y_train)\n",
        "predx=modelx.predict(X_test)\n",
        "cmx=confusion_matrix(y_test,predx)\n",
        "cmx"
      ]
    },
    {
      "cell_type": "code",
      "execution_count": null,
      "metadata": {
        "colab": {
          "base_uri": "https://localhost:8080/",
          "height": 447
        },
        "id": "DU_WrfcXyuk7",
        "outputId": "7617a30e-1aaf-459d-e626-c64417a23248"
      },
      "outputs": [
        {
          "output_type": "execute_result",
          "data": {
            "text/plain": [
              "<Axes: >"
            ]
          },
          "metadata": {},
          "execution_count": 22
        },
        {
          "output_type": "display_data",
          "data": {
            "text/plain": [
              "<Figure size 640x480 with 2 Axes>"
            ],
            "image/png": "[encoded data removed]"
          },
          "metadata": {}
        }
      ],
      "source": [
        "sns.heatmap(cmx, annot=True, fmt='d', cmap='Blues')"
      ]
    },
    {
      "cell_type": "code",
      "execution_count": null,
      "metadata": {
        "colab": {
          "base_uri": "https://localhost:8080/"
        },
        "id": "roMcIXKs2X15",
        "outputId": "132eb765-e1c3-4388-c007-ba6248750050"
      },
      "outputs": [
        {
          "output_type": "execute_result",
          "data": {
            "text/plain": [
              "0.9759856630824373"
            ]
          },
          "metadata": {},
          "execution_count": 23
        }
      ],
      "source": [
        "p= accuracy_score(y_test,predx)\n",
        "p"
      ]
    },
    {
      "cell_type": "code",
      "execution_count": null,
      "metadata": {
        "id": "tZQCE92W2qq5"
      },
      "outputs": [],
      "source": [
        "accuracy.append(p)"
      ]
    },
    {
      "cell_type": "code",
      "execution_count": null,
      "metadata": {
        "colab": {
          "base_uri": "https://localhost:8080/"
        },
        "id": "hlpWyyV53dST",
        "outputId": "35bb284d-aeb7-4088-c399-067cd3b3ebea"
      },
      "outputs": [
        {
          "output_type": "execute_result",
          "data": {
            "text/plain": [
              "[0.9759856630824373]"
            ]
          },
          "metadata": {},
          "execution_count": 25
        }
      ],
      "source": [
        "accuracy"
      ]
    },
    {
      "cell_type": "code",
      "execution_count": null,
      "metadata": {
        "colab": {
          "base_uri": "https://localhost:8080/"
        },
        "id": "6r2Sz8Z9tbu6",
        "outputId": "0bc3d698-b669-4afc-87e5-7c9f839b205e"
      },
      "outputs": [
        {
          "output_type": "stream",
          "name": "stdout",
          "text": [
            "              precision    recall  f1-score   support\n",
            "\n",
            "           0       1.00      0.95      0.98      1422\n",
            "           1       0.95      1.00      0.98      1368\n",
            "\n",
            "    accuracy                           0.98      2790\n",
            "   macro avg       0.98      0.98      0.98      2790\n",
            "weighted avg       0.98      0.98      0.98      2790\n",
            "\n"
          ]
        }
      ],
      "source": [
        "print(classification_report(y_test, predx))"
      ]
    },
    {
      "cell_type": "code",
      "execution_count": null,
      "metadata": {
        "colab": {
          "base_uri": "https://localhost:8080/"
        },
        "id": "2WpkEM2gue9h",
        "outputId": "a6afbc8e-f5bc-4de3-b8db-6addbace5429"
      },
      "outputs": [
        {
          "output_type": "execute_result",
          "data": {
            "text/plain": [
              "array([[1109,  313],\n",
              "       [  99, 1269]])"
            ]
          },
          "metadata": {},
          "execution_count": 27
        }
      ],
      "source": [
        "from sklearn.ensemble import GradientBoostingClassifier\n",
        "x=GradientBoostingClassifier(learning_rate=0.1,n_estimators=100)\n",
        "modelx=x.fit(X_train, y_train)\n",
        "predgx=modelx.predict(X_test)\n",
        "cmgx=confusion_matrix(y_test,predgx)\n",
        "cmgx"
      ]
    },
    {
      "cell_type": "code",
      "execution_count": null,
      "metadata": {
        "colab": {
          "base_uri": "https://localhost:8080/",
          "height": 447
        },
        "id": "380FU-mFzCcH",
        "outputId": "5499dc88-2c88-4346-c5cb-361569d4b2d0"
      },
      "outputs": [
        {
          "output_type": "execute_result",
          "data": {
            "text/plain": [
              "<Axes: >"
            ]
          },
          "metadata": {},
          "execution_count": 28
        },
        {
          "output_type": "display_data",
          "data": {
            "text/plain": [
              "<Figure size 640x480 with 2 Axes>"
            ],
            "image/png": "[encoded data removed]"
          },
          "metadata": {}
        }
      ],
      "source": [
        "sns.heatmap(cmgx, annot=True, cmap='Blues')"
      ]
    },
    {
      "cell_type": "code",
      "execution_count": null,
      "metadata": {
        "colab": {
          "base_uri": "https://localhost:8080/"
        },
        "id": "0dRwbIJkunbi",
        "outputId": "56fd1b6a-9468-469d-b91a-5a0dc2cb280b"
      },
      "outputs": [
        {
          "output_type": "stream",
          "name": "stdout",
          "text": [
            "              precision    recall  f1-score   support\n",
            "\n",
            "           0       0.92      0.78      0.84      1422\n",
            "           1       0.80      0.93      0.86      1368\n",
            "\n",
            "    accuracy                           0.85      2790\n",
            "   macro avg       0.86      0.85      0.85      2790\n",
            "weighted avg       0.86      0.85      0.85      2790\n",
            "\n"
          ]
        }
      ],
      "source": [
        "print(classification_report(y_test,predgx))"
      ]
    },
    {
      "cell_type": "code",
      "execution_count": null,
      "metadata": {
        "colab": {
          "base_uri": "https://localhost:8080/"
        },
        "id": "fCMmpBwi38vm",
        "outputId": "88b5ce1a-8332-49e7-df1a-668e8e0d48a7"
      },
      "outputs": [
        {
          "output_type": "execute_result",
          "data": {
            "text/plain": [
              "0.8523297491039427"
            ]
          },
          "metadata": {},
          "execution_count": 30
        }
      ],
      "source": [
        "g= accuracy_score(y_test,predgx)\n",
        "g"
      ]
    },
    {
      "cell_type": "code",
      "execution_count": null,
      "metadata": {
        "id": "wPpNqdUy4FUx"
      },
      "outputs": [],
      "source": [
        "accuracy.append(g)"
      ]
    },
    {
      "cell_type": "code",
      "execution_count": null,
      "metadata": {
        "colab": {
          "base_uri": "https://localhost:8080/"
        },
        "id": "oU4ZNB524JlR",
        "outputId": "07dfdd1b-2e2f-41ff-dda6-451ab55c4e1e"
      },
      "outputs": [
        {
          "output_type": "execute_result",
          "data": {
            "text/plain": [
              "[0.9759856630824373, 0.8523297491039427]"
            ]
          },
          "metadata": {},
          "execution_count": 32
        }
      ],
      "source": [
        "accuracy"
      ]
    },
    {
      "cell_type": "code",
      "execution_count": null,
      "metadata": {
        "id": "GelXJw91u9uI"
      },
      "outputs": [],
      "source": [
        "from sklearn.ensemble import RandomForestClassifier"
      ]
    },
    {
      "cell_type": "code",
      "execution_count": null,
      "metadata": {
        "colab": {
          "base_uri": "https://localhost:8080/"
        },
        "id": "v10KMYn_vUqq",
        "outputId": "622a9967-7e68-4151-a77f-541ab46e28e2"
      },
      "outputs": [
        {
          "output_type": "execute_result",
          "data": {
            "text/plain": [
              "array([[1271,  151],\n",
              "       [   0, 1368]])"
            ]
          },
          "metadata": {},
          "execution_count": 34
        }
      ],
      "source": [
        "rfc=RandomForestClassifier(max_depth=10,n_estimators=100)\n",
        "mrfc=rfc.fit(X_train,y_train)\n",
        "pr=mrfc.predict(X_test)\n",
        "cmat=confusion_matrix(y_test,pr)\n",
        "cmat"
      ]
    },
    {
      "cell_type": "code",
      "execution_count": null,
      "metadata": {
        "colab": {
          "base_uri": "https://localhost:8080/",
          "height": 447
        },
        "id": "_sV_BHXozMo4",
        "outputId": "444317b1-88c1-4b87-8937-4a80b249f3cd"
      },
      "outputs": [
        {
          "output_type": "execute_result",
          "data": {
            "text/plain": [
              "<Axes: >"
            ]
          },
          "metadata": {},
          "execution_count": 35
        },
        {
          "output_type": "display_data",
          "data": {
            "text/plain": [
              "<Figure size 640x480 with 2 Axes>"
            ],
            "image/png": "[encoded data removed]"
          },
          "metadata": {}
        }
      ],
      "source": [
        "sns.heatmap(cmat, annot=True, fmt='d', cmap='Blues')"
      ]
    },
    {
      "cell_type": "code",
      "execution_count": null,
      "metadata": {
        "colab": {
          "base_uri": "https://localhost:8080/"
        },
        "id": "dD6gQ5fS4Nyg",
        "outputId": "6d52503e-6262-4416-8666-d0f594b88525"
      },
      "outputs": [
        {
          "output_type": "execute_result",
          "data": {
            "text/plain": [
              "0.9458781362007168"
            ]
          },
          "metadata": {},
          "execution_count": 36
        }
      ],
      "source": [
        "r = accuracy_score(y_test, pr)\n",
        "r"
      ]
    },
    {
      "cell_type": "code",
      "execution_count": null,
      "metadata": {
        "id": "JYbtCguP4TRn"
      },
      "outputs": [],
      "source": [
        "accuracy.append(r)"
      ]
    },
    {
      "cell_type": "code",
      "execution_count": null,
      "metadata": {
        "colab": {
          "base_uri": "https://localhost:8080/"
        },
        "id": "DU8CruIF5NA7",
        "outputId": "442ae823-c0ca-481c-f8b3-a6f0aafc4cf3"
      },
      "outputs": [
        {
          "output_type": "execute_result",
          "data": {
            "text/plain": [
              "[0.9759856630824373, 0.8523297491039427, 0.9458781362007168]"
            ]
          },
          "metadata": {},
          "execution_count": 38
        }
      ],
      "source": [
        "accuracy"
      ]
    },
    {
      "cell_type": "code",
      "execution_count": null,
      "metadata": {
        "colab": {
          "base_uri": "https://localhost:8080/"
        },
        "id": "8b_to1JXveNR",
        "outputId": "442aa23d-9b6b-4693-92e0-0eece32728a5"
      },
      "outputs": [
        {
          "output_type": "stream",
          "name": "stdout",
          "text": [
            "              precision    recall  f1-score   support\n",
            "\n",
            "           0       1.00      0.89      0.94      1422\n",
            "           1       0.90      1.00      0.95      1368\n",
            "\n",
            "    accuracy                           0.95      2790\n",
            "   macro avg       0.95      0.95      0.95      2790\n",
            "weighted avg       0.95      0.95      0.95      2790\n",
            "\n"
          ]
        }
      ],
      "source": [
        "print(classification_report(y_test,pr))"
      ]
    },
    {
      "cell_type": "markdown",
      "metadata": {
        "id": "dUrY69Y2v4ke"
      },
      "source": [
        "# STACKING the models"
      ]
    },
    {
      "cell_type": "code",
      "execution_count": null,
      "metadata": {
        "colab": {
          "base_uri": "https://localhost:8080/"
        },
        "id": "5RrrSLAov6xJ",
        "outputId": "7d481d84-1e8f-47c4-e9a3-2bbc965dcba9"
      },
      "outputs": [
        {
          "output_type": "stream",
          "name": "stdout",
          "text": [
            "              precision    recall  f1-score   support\n",
            "\n",
            "           0       1.00      1.00      1.00      1422\n",
            "           1       1.00      1.00      1.00      1368\n",
            "\n",
            "    accuracy                           1.00      2790\n",
            "   macro avg       1.00      1.00      1.00      2790\n",
            "weighted avg       1.00      1.00      1.00      2790\n",
            "\n"
          ]
        }
      ],
      "source": [
        "from sklearn.ensemble import StackingClassifier, VotingClassifier\n",
        "base_models = [\n",
        "    ('gradient_boosting', GradientBoostingClassifier(learning_rate=0.1, n_estimators=100)),\n",
        "    ('xgboost', XGBClassifier()),\n",
        "    ('random_forest', RandomForestClassifier(max_depth=10, n_estimators=100))\n",
        "]\n",
        "\n",
        "\n",
        "meta_model = XGBClassifier()\n",
        "\n",
        "\n",
        "stacking_model = StackingClassifier(estimators=base_models, final_estimator=meta_model)\n",
        "\n",
        "\n",
        "stacking_model.fit(X_train,y_train)\n",
        "\n",
        "\n",
        "stacking_predictions = stacking_model.predict(X_test)\n",
        "\n",
        "\n",
        "classification_rep = classification_report(y_test, stacking_predictions)\n",
        "print(classification_rep)"
      ]
    },
    {
      "cell_type": "code",
      "execution_count": null,
      "metadata": {
        "colab": {
          "base_uri": "https://localhost:8080/"
        },
        "id": "RLc0IG2EzTdC",
        "outputId": "d2b68183-6d9f-4e40-d789-456376765ae7"
      },
      "outputs": [
        {
          "output_type": "execute_result",
          "data": {
            "text/plain": [
              "array([[1421,    1],\n",
              "       [   0, 1368]])"
            ]
          },
          "metadata": {},
          "execution_count": 41
        }
      ],
      "source": [
        "cst1= confusion_matrix(y_test, stacking_predictions)\n",
        "cst1"
      ]
    },
    {
      "cell_type": "code",
      "execution_count": null,
      "metadata": {
        "colab": {
          "base_uri": "https://localhost:8080/",
          "height": 447
        },
        "id": "HZatAusRzd5p",
        "outputId": "20721943-4a91-4ca8-9f64-69a98059ec96"
      },
      "outputs": [
        {
          "output_type": "execute_result",
          "data": {
            "text/plain": [
              "<Axes: >"
            ]
          },
          "metadata": {},
          "execution_count": 42
        },
        {
          "output_type": "display_data",
          "data": {
            "text/plain": [
              "<Figure size 640x480 with 2 Axes>"
            ],
            "image/png": "[encoded data removed]"
          },
          "metadata": {}
        }
      ],
      "source": [
        "sns.heatmap(cst1, annot=True, fmt='d', cmap='Blues')"
      ]
    },
    {
      "cell_type": "code",
      "execution_count": null,
      "metadata": {
        "colab": {
          "base_uri": "https://localhost:8080/"
        },
        "id": "MQgKPfXw5R4V",
        "outputId": "0e7c4646-936f-4ffe-8ce3-6e78285b4a35"
      },
      "outputs": [
        {
          "output_type": "execute_result",
          "data": {
            "text/plain": [
              "0.9996415770609319"
            ]
          },
          "metadata": {},
          "execution_count": 43
        }
      ],
      "source": [
        "st= accuracy_score(y_test,stacking_predictions)\n",
        "st"
      ]
    },
    {
      "cell_type": "code",
      "execution_count": null,
      "metadata": {
        "id": "hGjRHpX55b4X"
      },
      "outputs": [],
      "source": [
        "accuracy.append(st)"
      ]
    },
    {
      "cell_type": "code",
      "execution_count": null,
      "metadata": {
        "colab": {
          "base_uri": "https://localhost:8080/"
        },
        "id": "hylflRqZ5hRA",
        "outputId": "0e430f91-ad14-4094-995e-a7dae18f3536"
      },
      "outputs": [
        {
          "output_type": "execute_result",
          "data": {
            "text/plain": [
              "[0.9759856630824373,\n",
              " 0.8523297491039427,\n",
              " 0.9458781362007168,\n",
              " 0.9996415770609319]"
            ]
          },
          "metadata": {},
          "execution_count": 45
        }
      ],
      "source": [
        "accuracy"
      ]
    },
    {
      "cell_type": "code",
      "execution_count": null,
      "metadata": {
        "colab": {
          "base_uri": "https://localhost:8080/"
        },
        "id": "3yLmz0IzwMfI",
        "outputId": "8d9c0c67-f8ac-4735-96d9-a34ecd8071bc"
      },
      "outputs": [
        {
          "output_type": "stream",
          "name": "stdout",
          "text": [
            "              precision    recall  f1-score   support\n",
            "\n",
            "           0       1.00      1.00      1.00      1422\n",
            "           1       1.00      1.00      1.00      1368\n",
            "\n",
            "    accuracy                           1.00      2790\n",
            "   macro avg       1.00      1.00      1.00      2790\n",
            "weighted avg       1.00      1.00      1.00      2790\n",
            "\n"
          ]
        }
      ],
      "source": [
        "meta_model1 =  GradientBoostingClassifier(learning_rate=0.1, n_estimators=100)\n",
        "\n",
        "\n",
        "stacking_model1 = StackingClassifier(estimators=base_models, final_estimator=meta_model1)\n",
        "\n",
        "\n",
        "stacking_model1.fit(X_train,y_train)\n",
        "\n",
        "\n",
        "stacking_predictions1 = stacking_model1.predict(X_test)\n",
        "\n",
        "\n",
        "classification_rep = classification_report(y_test, stacking_predictions1)\n",
        "print(classification_rep)"
      ]
    },
    {
      "cell_type": "code",
      "execution_count": null,
      "metadata": {
        "colab": {
          "base_uri": "https://localhost:8080/"
        },
        "id": "nLh2ggNczjco",
        "outputId": "f2f1065b-86d0-42f2-d3c2-deca5baf2abf"
      },
      "outputs": [
        {
          "output_type": "execute_result",
          "data": {
            "text/plain": [
              "array([[1417,    5],\n",
              "       [   3, 1365]])"
            ]
          },
          "metadata": {},
          "execution_count": 47
        }
      ],
      "source": [
        "cst2= confusion_matrix(y_test, stacking_predictions1)\n",
        "cst2"
      ]
    },
    {
      "cell_type": "code",
      "execution_count": null,
      "metadata": {
        "colab": {
          "base_uri": "https://localhost:8080/",
          "height": 448
        },
        "id": "et2x8B-Azqlg",
        "outputId": "7187c9c1-2ff2-4164-af61-8a6bc0c407ae"
      },
      "outputs": [
        {
          "output_type": "execute_result",
          "data": {
            "text/plain": [
              "<Axes: >"
            ]
          },
          "metadata": {},
          "execution_count": 48
        },
        {
          "output_type": "display_data",
          "data": {
            "text/plain": [
              "<Figure size 640x480 with 2 Axes>"
            ],
            "image/png": "[encoded data removed]"
          },
          "metadata": {}
        }
      ],
      "source": [
        "sns.heatmap(cst2, annot=True, fmt='d', cmap='Blues')"
      ]
    },
    {
      "cell_type": "code",
      "execution_count": null,
      "metadata": {
        "colab": {
          "base_uri": "https://localhost:8080/"
        },
        "id": "wXgj43zMIV4G",
        "outputId": "6eddd760-30da-4002-8f6d-9dba971fd567"
      },
      "outputs": [
        {
          "output_type": "execute_result",
          "data": {
            "text/plain": [
              "0.9971326164874552"
            ]
          },
          "metadata": {},
          "execution_count": 49
        }
      ],
      "source": [
        "st2=accuracy_score(y_test, stacking_predictions1)\n",
        "st2"
      ]
    },
    {
      "cell_type": "code",
      "execution_count": null,
      "metadata": {
        "id": "JDUjtTGHIk-y"
      },
      "outputs": [],
      "source": [
        "accuracy.append(st2)"
      ]
    },
    {
      "cell_type": "code",
      "execution_count": null,
      "metadata": {
        "colab": {
          "base_uri": "https://localhost:8080/"
        },
        "id": "BVYZKCLjIoga",
        "outputId": "6bcda69f-f430-41ee-9252-8044835b079f"
      },
      "outputs": [
        {
          "output_type": "execute_result",
          "data": {
            "text/plain": [
              "[0.9759856630824373,\n",
              " 0.8523297491039427,\n",
              " 0.9458781362007168,\n",
              " 0.9996415770609319,\n",
              " 0.9971326164874552]"
            ]
          },
          "metadata": {},
          "execution_count": 51
        }
      ],
      "source": [
        "accuracy"
      ]
    },
    {
      "cell_type": "markdown",
      "metadata": {
        "id": "L5Ob_DtCwgfV"
      },
      "source": [
        "NEURAL NETWORKS"
      ]
    },
    {
      "cell_type": "code",
      "execution_count": null,
      "metadata": {
        "id": "fN8ultgLwjQI"
      },
      "outputs": [],
      "source": [
        "from tensorflow.keras.models import Sequential\n",
        "from tensorflow.keras.layers import Dense\n",
        "from sklearn import preprocessing"
      ]
    },
    {
      "cell_type": "code",
      "execution_count": null,
      "metadata": {
        "id": "Z2B_m5F2wmDg"
      },
      "outputs": [],
      "source": [
        "model = Sequential()\n",
        "\n",
        "model.add(Dense(64, activation='relu', input_shape=(X_train.shape[1],)))\n",
        "model.add(Dense(256, activation='relu'))\n",
        "model.add(Dense(128, activation='relu'))\n",
        "model.add(Dense(64, activation='relu'))\n",
        "model.add(Dense(32,activation='relu'))\n",
        "#model.add(Dense(16, activation='relu'))\n",
        "#model.add(Dense(8, activation='relu'))\n",
        "model.add(Dense(1, activation='sigmoid'))\n",
        "\n",
        "model.compile(optimizer='adam', loss='binary_crossentropy', metrics=['accuracy'])\n"
      ]
    },
    {
      "cell_type": "code",
      "execution_count": null,
      "metadata": {
        "colab": {
          "base_uri": "https://localhost:8080/"
        },
        "id": "gKRYJOxvwtPB",
        "outputId": "6169eaf9-f3ad-4359-8d0d-a4f36480fed2"
      },
      "outputs": [
        {
          "output_type": "stream",
          "name": "stdout",
          "text": [
            "Epoch 1/100\n",
            "204/204 [==============================] - 3s 2ms/step - loss: 0.4722 - accuracy: 0.7711\n",
            "Epoch 2/100\n",
            "204/204 [==============================] - 0s 2ms/step - loss: 0.4066 - accuracy: 0.8121\n",
            "Epoch 3/100\n",
            "204/204 [==============================] - 0s 2ms/step - loss: 0.3500 - accuracy: 0.8440\n",
            "Epoch 4/100\n",
            "204/204 [==============================] - 0s 2ms/step - loss: 0.3004 - accuracy: 0.8746\n",
            "Epoch 5/100\n",
            "204/204 [==============================] - 0s 2ms/step - loss: 0.2740 - accuracy: 0.8871\n",
            "Epoch 6/100\n",
            "204/204 [==============================] - 0s 2ms/step - loss: 0.2439 - accuracy: 0.9041\n",
            "Epoch 7/100\n",
            "204/204 [==============================] - 0s 2ms/step - loss: 0.2097 - accuracy: 0.9222\n",
            "Epoch 8/100\n",
            "204/204 [==============================] - 1s 2ms/step - loss: 0.2004 - accuracy: 0.9247\n",
            "Epoch 9/100\n",
            "204/204 [==============================] - 0s 2ms/step - loss: 0.1768 - accuracy: 0.9341\n",
            "Epoch 10/100\n",
            "204/204 [==============================] - 0s 2ms/step - loss: 0.1550 - accuracy: 0.9459\n",
            "Epoch 11/100\n",
            "204/204 [==============================] - 0s 2ms/step - loss: 0.1414 - accuracy: 0.9510\n",
            "Epoch 12/100\n",
            "204/204 [==============================] - 0s 2ms/step - loss: 0.1271 - accuracy: 0.9556\n",
            "Epoch 13/100\n",
            "204/204 [==============================] - 0s 2ms/step - loss: 0.1172 - accuracy: 0.9588\n",
            "Epoch 14/100\n",
            "204/204 [==============================] - 0s 2ms/step - loss: 0.1169 - accuracy: 0.9630\n",
            "Epoch 15/100\n",
            "204/204 [==============================] - 0s 2ms/step - loss: 0.0879 - accuracy: 0.9714\n",
            "Epoch 16/100\n",
            "204/204 [==============================] - 1s 2ms/step - loss: 0.0897 - accuracy: 0.9714\n",
            "Epoch 17/100\n",
            "204/204 [==============================] - 0s 2ms/step - loss: 0.0696 - accuracy: 0.9776\n",
            "Epoch 18/100\n",
            "204/204 [==============================] - 0s 2ms/step - loss: 0.0818 - accuracy: 0.9722\n",
            "Epoch 19/100\n",
            "204/204 [==============================] - 1s 3ms/step - loss: 0.0703 - accuracy: 0.9777\n",
            "Epoch 20/100\n",
            "204/204 [==============================] - 1s 4ms/step - loss: 0.0569 - accuracy: 0.9836\n",
            "Epoch 21/100\n",
            "204/204 [==============================] - 1s 4ms/step - loss: 0.0710 - accuracy: 0.9770\n",
            "Epoch 22/100\n",
            "204/204 [==============================] - 1s 4ms/step - loss: 0.0565 - accuracy: 0.9816\n",
            "Epoch 23/100\n",
            "204/204 [==============================] - 1s 3ms/step - loss: 0.0698 - accuracy: 0.9760\n",
            "Epoch 24/100\n",
            "204/204 [==============================] - 1s 2ms/step - loss: 0.0540 - accuracy: 0.9842\n",
            "Epoch 25/100\n",
            "204/204 [==============================] - 0s 2ms/step - loss: 0.0500 - accuracy: 0.9859\n",
            "Epoch 26/100\n",
            "204/204 [==============================] - 1s 2ms/step - loss: 0.0448 - accuracy: 0.9859\n",
            "Epoch 27/100\n",
            "204/204 [==============================] - 0s 2ms/step - loss: 0.0385 - accuracy: 0.9885\n",
            "Epoch 28/100\n",
            "204/204 [==============================] - 1s 2ms/step - loss: 0.0454 - accuracy: 0.9874\n",
            "Epoch 29/100\n",
            "204/204 [==============================] - 0s 2ms/step - loss: 0.0616 - accuracy: 0.9814\n",
            "Epoch 30/100\n",
            "204/204 [==============================] - 1s 2ms/step - loss: 0.0388 - accuracy: 0.9882\n",
            "Epoch 31/100\n",
            "204/204 [==============================] - 0s 2ms/step - loss: 0.0448 - accuracy: 0.9869\n",
            "Epoch 32/100\n",
            "204/204 [==============================] - 0s 2ms/step - loss: 0.0355 - accuracy: 0.9894\n",
            "Epoch 33/100\n",
            "204/204 [==============================] - 0s 2ms/step - loss: 0.0449 - accuracy: 0.9869\n",
            "Epoch 34/100\n",
            "204/204 [==============================] - 0s 2ms/step - loss: 0.0261 - accuracy: 0.9929\n",
            "Epoch 35/100\n",
            "204/204 [==============================] - 0s 2ms/step - loss: 0.0362 - accuracy: 0.9892\n",
            "Epoch 36/100\n",
            "204/204 [==============================] - 0s 2ms/step - loss: 0.0338 - accuracy: 0.9902\n",
            "Epoch 37/100\n",
            "204/204 [==============================] - 0s 2ms/step - loss: 0.0387 - accuracy: 0.9874\n",
            "Epoch 38/100\n",
            "204/204 [==============================] - 0s 2ms/step - loss: 0.0421 - accuracy: 0.9868\n",
            "Epoch 39/100\n",
            "204/204 [==============================] - 0s 2ms/step - loss: 0.0280 - accuracy: 0.9912\n",
            "Epoch 40/100\n",
            "204/204 [==============================] - 0s 2ms/step - loss: 0.0333 - accuracy: 0.9909\n",
            "Epoch 41/100\n",
            "204/204 [==============================] - 0s 2ms/step - loss: 0.0325 - accuracy: 0.9908\n",
            "Epoch 42/100\n",
            "204/204 [==============================] - 0s 2ms/step - loss: 0.0331 - accuracy: 0.9891\n",
            "Epoch 43/100\n",
            "204/204 [==============================] - 1s 2ms/step - loss: 0.0235 - accuracy: 0.9932\n",
            "Epoch 44/100\n",
            "204/204 [==============================] - 1s 3ms/step - loss: 0.0373 - accuracy: 0.9899\n",
            "Epoch 45/100\n",
            "204/204 [==============================] - 1s 4ms/step - loss: 0.0399 - accuracy: 0.9876\n",
            "Epoch 46/100\n",
            "204/204 [==============================] - 1s 4ms/step - loss: 0.0244 - accuracy: 0.9931\n",
            "Epoch 47/100\n",
            "204/204 [==============================] - 1s 3ms/step - loss: 0.0224 - accuracy: 0.9943\n",
            "Epoch 48/100\n",
            "204/204 [==============================] - 0s 2ms/step - loss: 0.0149 - accuracy: 0.9957\n",
            "Epoch 49/100\n",
            "204/204 [==============================] - 1s 2ms/step - loss: 0.0180 - accuracy: 0.9940\n",
            "Epoch 50/100\n",
            "204/204 [==============================] - 0s 2ms/step - loss: 0.0454 - accuracy: 0.9877\n",
            "Epoch 51/100\n",
            "204/204 [==============================] - 1s 3ms/step - loss: 0.0337 - accuracy: 0.9899\n",
            "Epoch 52/100\n",
            "204/204 [==============================] - 1s 2ms/step - loss: 0.0228 - accuracy: 0.9928\n",
            "Epoch 53/100\n",
            "204/204 [==============================] - 0s 2ms/step - loss: 0.0278 - accuracy: 0.9923\n",
            "Epoch 54/100\n",
            "204/204 [==============================] - 0s 2ms/step - loss: 0.0229 - accuracy: 0.9928\n",
            "Epoch 55/100\n",
            "204/204 [==============================] - 0s 2ms/step - loss: 0.0246 - accuracy: 0.9931\n",
            "Epoch 56/100\n",
            "204/204 [==============================] - 0s 2ms/step - loss: 0.0261 - accuracy: 0.9920\n",
            "Epoch 57/100\n",
            "204/204 [==============================] - 0s 2ms/step - loss: 0.0315 - accuracy: 0.9894\n",
            "Epoch 58/100\n",
            "204/204 [==============================] - 1s 2ms/step - loss: 0.0219 - accuracy: 0.9929\n",
            "Epoch 59/100\n",
            "204/204 [==============================] - 1s 2ms/step - loss: 0.0289 - accuracy: 0.9909\n",
            "Epoch 60/100\n",
            "204/204 [==============================] - 0s 2ms/step - loss: 0.0234 - accuracy: 0.9940\n",
            "Epoch 61/100\n",
            "204/204 [==============================] - 0s 2ms/step - loss: 0.0244 - accuracy: 0.9929\n",
            "Epoch 62/100\n",
            "204/204 [==============================] - 1s 2ms/step - loss: 0.0341 - accuracy: 0.9894\n",
            "Epoch 63/100\n",
            "204/204 [==============================] - 0s 2ms/step - loss: 0.0129 - accuracy: 0.9959\n",
            "Epoch 64/100\n",
            "204/204 [==============================] - 1s 3ms/step - loss: 0.0205 - accuracy: 0.9942\n",
            "Epoch 65/100\n",
            "204/204 [==============================] - 0s 2ms/step - loss: 0.0160 - accuracy: 0.9951\n",
            "Epoch 66/100\n",
            "204/204 [==============================] - 0s 2ms/step - loss: 0.0246 - accuracy: 0.9922\n",
            "Epoch 67/100\n",
            "204/204 [==============================] - 1s 3ms/step - loss: 0.0389 - accuracy: 0.9880\n",
            "Epoch 68/100\n",
            "204/204 [==============================] - 1s 4ms/step - loss: 0.0141 - accuracy: 0.9954\n",
            "Epoch 69/100\n",
            "204/204 [==============================] - 1s 6ms/step - loss: 0.0259 - accuracy: 0.9917\n",
            "Epoch 70/100\n",
            "204/204 [==============================] - 1s 6ms/step - loss: 0.0232 - accuracy: 0.9929\n",
            "Epoch 71/100\n",
            "204/204 [==============================] - 1s 5ms/step - loss: 0.0310 - accuracy: 0.9902\n",
            "Epoch 72/100\n",
            "204/204 [==============================] - 1s 5ms/step - loss: 0.0294 - accuracy: 0.9909\n",
            "Epoch 73/100\n",
            "204/204 [==============================] - 1s 5ms/step - loss: 0.0191 - accuracy: 0.9946\n",
            "Epoch 74/100\n",
            "204/204 [==============================] - 1s 5ms/step - loss: 0.0125 - accuracy: 0.9954\n",
            "Epoch 75/100\n",
            "204/204 [==============================] - 1s 5ms/step - loss: 0.0108 - accuracy: 0.9962\n",
            "Epoch 76/100\n",
            "204/204 [==============================] - 1s 5ms/step - loss: 0.0137 - accuracy: 0.9952\n",
            "Epoch 77/100\n",
            "204/204 [==============================] - 1s 6ms/step - loss: 0.0368 - accuracy: 0.9903\n",
            "Epoch 78/100\n",
            "204/204 [==============================] - 1s 4ms/step - loss: 0.0246 - accuracy: 0.9935\n",
            "Epoch 79/100\n",
            "204/204 [==============================] - 1s 4ms/step - loss: 0.0275 - accuracy: 0.9899\n",
            "Epoch 80/100\n",
            "204/204 [==============================] - 1s 6ms/step - loss: 0.0175 - accuracy: 0.9940\n",
            "Epoch 81/100\n",
            "204/204 [==============================] - 1s 6ms/step - loss: 0.0135 - accuracy: 0.9951\n",
            "Epoch 82/100\n",
            "204/204 [==============================] - 1s 7ms/step - loss: 0.0219 - accuracy: 0.9931\n",
            "Epoch 83/100\n",
            "204/204 [==============================] - 1s 6ms/step - loss: 0.0197 - accuracy: 0.9943\n",
            "Epoch 84/100\n",
            "204/204 [==============================] - 1s 5ms/step - loss: 0.0134 - accuracy: 0.9959\n",
            "Epoch 85/100\n",
            "204/204 [==============================] - 1s 5ms/step - loss: 0.0196 - accuracy: 0.9925\n",
            "Epoch 86/100\n",
            "204/204 [==============================] - 1s 5ms/step - loss: 0.0163 - accuracy: 0.9957\n",
            "Epoch 87/100\n",
            "204/204 [==============================] - 1s 5ms/step - loss: 0.0110 - accuracy: 0.9969\n",
            "Epoch 88/100\n",
            "204/204 [==============================] - 1s 5ms/step - loss: 0.0175 - accuracy: 0.9949\n",
            "Epoch 89/100\n",
            "204/204 [==============================] - 1s 5ms/step - loss: 0.0140 - accuracy: 0.9963\n",
            "Epoch 90/100\n",
            "204/204 [==============================] - 1s 5ms/step - loss: 0.0107 - accuracy: 0.9971\n",
            "Epoch 91/100\n",
            "204/204 [==============================] - 1s 3ms/step - loss: 0.0143 - accuracy: 0.9952\n",
            "Epoch 92/100\n",
            "204/204 [==============================] - 0s 2ms/step - loss: 0.0387 - accuracy: 0.9888\n",
            "Epoch 93/100\n",
            "204/204 [==============================] - 0s 2ms/step - loss: 0.0220 - accuracy: 0.9929\n",
            "Epoch 94/100\n",
            "204/204 [==============================] - 1s 4ms/step - loss: 0.0215 - accuracy: 0.9943\n",
            "Epoch 95/100\n",
            "204/204 [==============================] - 1s 4ms/step - loss: 0.0111 - accuracy: 0.9965\n",
            "Epoch 96/100\n",
            "204/204 [==============================] - 1s 4ms/step - loss: 0.0310 - accuracy: 0.9909\n",
            "Epoch 97/100\n",
            "204/204 [==============================] - 1s 3ms/step - loss: 0.0079 - accuracy: 0.9974\n",
            "Epoch 98/100\n",
            "204/204 [==============================] - 0s 2ms/step - loss: 0.0128 - accuracy: 0.9966\n",
            "Epoch 99/100\n",
            "204/204 [==============================] - 0s 2ms/step - loss: 0.0340 - accuracy: 0.9902\n",
            "Epoch 100/100\n",
            "204/204 [==============================] - 1s 2ms/step - loss: 0.0120 - accuracy: 0.9969\n",
            "88/88 [==============================] - 0s 1ms/step - loss: 0.1607 - accuracy: 0.9756\n",
            "Test Loss: 0.16074781119823456\n",
            "Test Accuracy: 0.9756272435188293\n"
          ]
        }
      ],
      "source": [
        "model.fit(X_train,y_train, epochs=100, batch_size=32)\n",
        "\n",
        "loss, neural_net_accuracy = model.evaluate(X_test, y_test)\n",
        "\n",
        "print('Test Loss:', loss)\n",
        "print('Test Accuracy:', neural_net_accuracy)"
      ]
    },
    {
      "cell_type": "code",
      "execution_count": null,
      "metadata": {
        "id": "e1Fyy0nwHHvU"
      },
      "outputs": [],
      "source": [
        "accuracy.append(neural_net_accuracy)"
      ]
    },
    {
      "cell_type": "code",
      "execution_count": null,
      "metadata": {
        "colab": {
          "base_uri": "https://localhost:8080/"
        },
        "id": "aB69V6pmIwma",
        "outputId": "b9a38f74-62dd-4c23-f5e2-05b11acd5673"
      },
      "outputs": [
        {
          "output_type": "execute_result",
          "data": {
            "text/plain": [
              "[0.9759856630824373,\n",
              " 0.8523297491039427,\n",
              " 0.9458781362007168,\n",
              " 0.9996415770609319,\n",
              " 0.9971326164874552,\n",
              " 0.9756272435188293]"
            ]
          },
          "metadata": {},
          "execution_count": 56
        }
      ],
      "source": [
        "accuracy"
      ]
    },
    {
      "cell_type": "code",
      "execution_count": null,
      "metadata": {
        "colab": {
          "base_uri": "https://localhost:8080/"
        },
        "id": "adELi9_z0Ha6",
        "outputId": "e5732f1c-9c74-46a9-c743-b734aeacde31"
      },
      "outputs": [
        {
          "output_type": "stream",
          "name": "stdout",
          "text": [
            "88/88 [==============================] - 0s 1ms/step\n"
          ]
        }
      ],
      "source": [
        "y_pred = model.predict(X_test)\n",
        "y_pred = np.round(y_pred).astype(int)"
      ]
    },
    {
      "cell_type": "code",
      "execution_count": null,
      "metadata": {
        "id": "KY3R-GIy0J0a"
      },
      "outputs": [],
      "source": [
        "conf_matrix = confusion_matrix(y_test, y_pred)\n",
        "class_report = classification_report(y_test, y_pred)"
      ]
    },
    {
      "cell_type": "code",
      "execution_count": null,
      "metadata": {
        "colab": {
          "base_uri": "https://localhost:8080/",
          "height": 564
        },
        "id": "p6GFJpBp0O7Q",
        "outputId": "56d5dafc-b4a0-4a91-bf3a-db1aa56b9d24"
      },
      "outputs": [
        {
          "output_type": "display_data",
          "data": {
            "text/plain": [
              "<Figure size 800x600 with 1 Axes>"
            ],
            "image/png": "[encoded data removed]"
          },
          "metadata": {}
        }
      ],
      "source": [
        "plt.figure(figsize=(8, 6))\n",
        "sns.heatmap(conf_matrix, annot=True, cmap='Blues', fmt='d', cbar=False)\n",
        "plt.xlabel('Predicted')\n",
        "plt.ylabel('Actual')\n",
        "plt.title('Confusion Matrix')\n",
        "plt.show()"
      ]
    },
    {
      "cell_type": "code",
      "execution_count": null,
      "metadata": {
        "colab": {
          "base_uri": "https://localhost:8080/"
        },
        "id": "OaL53abf0UY_",
        "outputId": "ce6ae32d-417f-4829-8ba2-262a1137bbcc"
      },
      "outputs": [
        {
          "output_type": "stream",
          "name": "stdout",
          "text": [
            "Classification Report:\n",
            "               precision    recall  f1-score   support\n",
            "\n",
            "           0       1.00      0.95      0.98      1422\n",
            "           1       0.95      1.00      0.98      1368\n",
            "\n",
            "    accuracy                           0.98      2790\n",
            "   macro avg       0.98      0.98      0.98      2790\n",
            "weighted avg       0.98      0.98      0.98      2790\n",
            "\n"
          ]
        }
      ],
      "source": [
        "print(\"Classification Report:\\n\", class_report)"
      ]
    },
    {
      "cell_type": "markdown",
      "metadata": {
        "id": "Kx-jAuO5xhw6"
      },
      "source": [
        "Logistic Regression"
      ]
    },
    {
      "cell_type": "code",
      "execution_count": null,
      "metadata": {
        "id": "pLQGjyxjxlTS"
      },
      "outputs": [],
      "source": [
        "from sklearn.linear_model import LogisticRegression\n",
        "lr=LogisticRegression()\n",
        "model3=lr.fit(X_train, y_train)\n",
        "predLR=model3.predict(X_test)\n",
        "\n",
        "cmlr=confusion_matrix(y_test,predLR)"
      ]
    },
    {
      "cell_type": "code",
      "execution_count": null,
      "metadata": {
        "colab": {
          "base_uri": "https://localhost:8080/"
        },
        "id": "wYP2ECsBx1eS",
        "outputId": "3ade7133-b9b1-44d9-e568-8d545b1f2cdc"
      },
      "outputs": [
        {
          "output_type": "execute_result",
          "data": {
            "text/plain": [
              "array([[1044,  378],\n",
              "       [ 287, 1081]])"
            ]
          },
          "metadata": {},
          "execution_count": 62
        }
      ],
      "source": [
        "cmlr"
      ]
    },
    {
      "cell_type": "code",
      "execution_count": null,
      "metadata": {
        "colab": {
          "base_uri": "https://localhost:8080/",
          "height": 447
        },
        "id": "d5WouPOsz4NV",
        "outputId": "52c646c6-d988-4b31-b27a-6b67fca159ad"
      },
      "outputs": [
        {
          "output_type": "execute_result",
          "data": {
            "text/plain": [
              "<Axes: >"
            ]
          },
          "metadata": {},
          "execution_count": 63
        },
        {
          "output_type": "display_data",
          "data": {
            "text/plain": [
              "<Figure size 640x480 with 2 Axes>"
            ],
            "image/png": "[encoded data removed]"
          },
          "metadata": {}
        }
      ],
      "source": [
        "sns.heatmap(cmlr, annot=True, fmt='d', cmap='Blues')"
      ]
    },
    {
      "cell_type": "code",
      "execution_count": null,
      "metadata": {
        "colab": {
          "base_uri": "https://localhost:8080/"
        },
        "id": "_bYwLabpx36Z",
        "outputId": "5fde92a4-edf8-4c3d-d16e-89867e142b19"
      },
      "outputs": [
        {
          "output_type": "stream",
          "name": "stdout",
          "text": [
            "              precision    recall  f1-score   support\n",
            "\n",
            "           0       0.78      0.73      0.76      1422\n",
            "           1       0.74      0.79      0.76      1368\n",
            "\n",
            "    accuracy                           0.76      2790\n",
            "   macro avg       0.76      0.76      0.76      2790\n",
            "weighted avg       0.76      0.76      0.76      2790\n",
            "\n"
          ]
        }
      ],
      "source": [
        "print(classification_report(y_test,predLR))"
      ]
    },
    {
      "cell_type": "code",
      "execution_count": null,
      "metadata": {
        "id": "g21t3VtqI1nK"
      },
      "outputs": [],
      "source": [
        "log_accuracy= accuracy_score(y_test,predLR)"
      ]
    },
    {
      "cell_type": "code",
      "execution_count": null,
      "metadata": {
        "id": "yAd-k3paI_5d"
      },
      "outputs": [],
      "source": [
        "accuracy.append(log_accuracy)"
      ]
    },
    {
      "cell_type": "code",
      "execution_count": null,
      "metadata": {
        "colab": {
          "base_uri": "https://localhost:8080/"
        },
        "id": "aTjnCwNcJGou",
        "outputId": "9b8c7f35-00a5-4b0d-b3a1-befdebc063eb"
      },
      "outputs": [
        {
          "output_type": "execute_result",
          "data": {
            "text/plain": [
              "[0.9759856630824373,\n",
              " 0.8523297491039427,\n",
              " 0.9458781362007168,\n",
              " 0.9996415770609319,\n",
              " 0.9971326164874552,\n",
              " 0.9756272435188293,\n",
              " 0.7616487455197133]"
            ]
          },
          "metadata": {},
          "execution_count": 67
        }
      ],
      "source": [
        "accuracy"
      ]
    },
    {
      "cell_type": "markdown",
      "metadata": {
        "id": "0RpeUes7yPci"
      },
      "source": [
        "SUPPORT VECTOR MACHINE"
      ]
    },
    {
      "cell_type": "code",
      "execution_count": null,
      "metadata": {
        "colab": {
          "base_uri": "https://localhost:8080/"
        },
        "id": "Km3Y2RSjyOy8",
        "outputId": "e7b66700-b3d6-4f82-de3a-e914d108bb6d"
      },
      "outputs": [
        {
          "output_type": "execute_result",
          "data": {
            "text/plain": [
              "array([[1036,  386],\n",
              "       [ 279, 1089]])"
            ]
          },
          "metadata": {},
          "execution_count": 68
        }
      ],
      "source": [
        "from sklearn.svm import SVC\n",
        "svm=SVC(C=1,kernel='linear',gamma='auto',probability=True,random_state=42)\n",
        "modelSVC=svm.fit(X_train,y_train)\n",
        "predictionSVC=modelSVC.predict(X_test)\n",
        "cmSVC= confusion_matrix(y_test,predictionSVC)\n",
        "cmSVC"
      ]
    },
    {
      "cell_type": "code",
      "execution_count": null,
      "metadata": {
        "colab": {
          "base_uri": "https://localhost:8080/"
        },
        "id": "sHEn6VeYyX_o",
        "outputId": "71127c87-15eb-4076-eccc-e53fa036c599"
      },
      "outputs": [
        {
          "output_type": "stream",
          "name": "stdout",
          "text": [
            "              precision    recall  f1-score   support\n",
            "\n",
            "           0       0.79      0.73      0.76      1422\n",
            "           1       0.74      0.80      0.77      1368\n",
            "\n",
            "    accuracy                           0.76      2790\n",
            "   macro avg       0.76      0.76      0.76      2790\n",
            "weighted avg       0.76      0.76      0.76      2790\n",
            "\n"
          ]
        }
      ],
      "source": [
        "print(classification_report(y_test,predictionSVC))"
      ]
    },
    {
      "cell_type": "code",
      "execution_count": null,
      "metadata": {
        "colab": {
          "base_uri": "https://localhost:8080/",
          "height": 447
        },
        "id": "iwzYB1iCzvKh",
        "outputId": "26c5f761-dbb7-4881-a49d-c51e975d7089"
      },
      "outputs": [
        {
          "output_type": "execute_result",
          "data": {
            "text/plain": [
              "<Axes: >"
            ]
          },
          "metadata": {},
          "execution_count": 70
        },
        {
          "output_type": "display_data",
          "data": {
            "text/plain": [
              "<Figure size 640x480 with 2 Axes>"
            ],
            "image/png": "[encoded data removed]"
          },
          "metadata": {}
        }
      ],
      "source": [
        "sns.heatmap(cmSVC, annot=True, fmt='d', cmap='Blues')"
      ]
    },
    {
      "cell_type": "code",
      "execution_count": null,
      "metadata": {
        "id": "hIVNNbOWHOTW"
      },
      "outputs": [],
      "source": [
        "svm_accuracy= accuracy_score(y_test,predictionSVC)"
      ]
    },
    {
      "cell_type": "code",
      "execution_count": null,
      "metadata": {
        "id": "13XOSPAnHZnE"
      },
      "outputs": [],
      "source": [
        "accuracy.append(svm_accuracy)"
      ]
    },
    {
      "cell_type": "code",
      "execution_count": null,
      "metadata": {
        "colab": {
          "base_uri": "https://localhost:8080/"
        },
        "id": "i_y5oyIkHgok",
        "outputId": "d9a97755-7458-413b-9020-40f6e57606f5"
      },
      "outputs": [
        {
          "output_type": "execute_result",
          "data": {
            "text/plain": [
              "[0.9759856630824373,\n",
              " 0.8523297491039427,\n",
              " 0.9458781362007168,\n",
              " 0.9996415770609319,\n",
              " 0.9971326164874552,\n",
              " 0.9756272435188293,\n",
              " 0.7616487455197133,\n",
              " 0.7616487455197133]"
            ]
          },
          "metadata": {},
          "execution_count": 73
        }
      ],
      "source": [
        "accuracy"
      ]
    },
    {
      "cell_type": "code",
      "execution_count": null,
      "metadata": {
        "colab": {
          "base_uri": "https://localhost:8080/"
        },
        "id": "DIzSPdY4HiS9",
        "outputId": "fcad436b-e8cb-4816-db7e-3e1cff011cfe"
      },
      "outputs": [
        {
          "output_type": "execute_result",
          "data": {
            "text/plain": [
              "8"
            ]
          },
          "metadata": {},
          "execution_count": 74
        }
      ],
      "source": [
        "len(accuracy)"
      ]
    },
    {
      "cell_type": "markdown",
      "metadata": {
        "id": "I7D4UrlFyzV5"
      },
      "source": [
        "MULTI LAYER PERCEPTRON"
      ]
    },
    {
      "cell_type": "markdown",
      "source": [
        "MULTI LAYER PERCEPTRON"
      ],
      "metadata": {
        "id": "5YlNMV3mfHWp"
      }
    },
    {
      "cell_type": "code",
      "execution_count": null,
      "metadata": {
        "id": "Qkoyrdsey08Z"
      },
      "outputs": [],
      "source": [
        "from sklearn.neural_network import MLPClassifier"
      ]
    },
    {
      "cell_type": "code",
      "execution_count": null,
      "metadata": {
        "colab": {
          "base_uri": "https://localhost:8080/",
          "height": 604
        },
        "id": "rthCCJbWy-nx",
        "outputId": "58e6c78a-bedd-4eee-e7c2-52029123dce3"
      },
      "outputs": [
        {
          "output_type": "stream",
          "name": "stdout",
          "text": [
            "Accuracy Score of MLP :  0.9648745519713262\n",
            "              precision    recall  f1-score   support\n",
            "\n",
            "           0       1.00      0.93      0.96      1422\n",
            "           1       0.93      1.00      0.97      1368\n",
            "\n",
            "    accuracy                           0.96      2790\n",
            "   macro avg       0.97      0.97      0.96      2790\n",
            "weighted avg       0.97      0.96      0.96      2790\n",
            "\n"
          ]
        },
        {
          "output_type": "display_data",
          "data": {
            "text/plain": [
              "<Figure size 640x480 with 2 Axes>"
            ],
            "image/png": "[encoded data removed]"
          },
          "metadata": {}
        }
      ],
      "source": [
        "mlp_classifier=MLPClassifier(hidden_layer_sizes=(200,200),activation=\"relu\",alpha=0.01, learning_rate=\"constant\")\n",
        "\n",
        "m= mlp_classifier.fit(X_train,y_train)\n",
        "lp= m.predict(X_test)\n",
        "c= confusion_matrix(y_test,lp)\n",
        "sns.heatmap(c,annot=True,cmap=\"rocket\")\n",
        "s=accuracy_score(y_test,lp)\n",
        "print(\"Accuracy Score of MLP : \",s)\n",
        "\n",
        "print(classification_report(y_test,lp))\n"
      ]
    },
    {
      "cell_type": "code",
      "execution_count": null,
      "metadata": {
        "id": "yaPRKRuoJLpV"
      },
      "outputs": [],
      "source": [
        "accuracy.append(s)"
      ]
    },
    {
      "cell_type": "code",
      "execution_count": null,
      "metadata": {
        "colab": {
          "base_uri": "https://localhost:8080/"
        },
        "id": "h-5qj-e2JOsM",
        "outputId": "e238634f-03c1-42e8-ff98-989f7e06d87a"
      },
      "outputs": [
        {
          "output_type": "execute_result",
          "data": {
            "text/plain": [
              "[0.9759856630824373,\n",
              " 0.8523297491039427,\n",
              " 0.9458781362007168,\n",
              " 0.9996415770609319,\n",
              " 0.9971326164874552,\n",
              " 0.9756272435188293,\n",
              " 0.7616487455197133,\n",
              " 0.7616487455197133,\n",
              " 0.9648745519713262]"
            ]
          },
          "metadata": {},
          "execution_count": 78
        }
      ],
      "source": [
        "accuracy"
      ]
    },
    {
      "cell_type": "code",
      "execution_count": null,
      "metadata": {
        "colab": {
          "base_uri": "https://localhost:8080/"
        },
        "id": "0ZQGHj8tKKus",
        "outputId": "4b24d10f-3255-4998-cb2c-8f1c5daab724"
      },
      "outputs": [
        {
          "output_type": "execute_result",
          "data": {
            "text/plain": [
              "9"
            ]
          },
          "metadata": {},
          "execution_count": 79
        }
      ],
      "source": [
        "len(accuracy)"
      ]
    },
    {
      "cell_type": "code",
      "execution_count": null,
      "metadata": {
        "id": "cZuJWpAHKisb"
      },
      "outputs": [],
      "source": [
        "algorithms=['XGBOOST','GradientBoostingClassifier', 'RandomForestClassifier','Stackedmodel1','Stackedmodel2','NEURAL NETWORKS','LogisticRegression','Support Vector Machine','Multi Layer Perceptron']"
      ]
    },
    {
      "cell_type": "code",
      "execution_count": null,
      "metadata": {
        "colab": {
          "base_uri": "https://localhost:8080/",
          "height": 587
        },
        "id": "z-emMjkyJ7Tx",
        "outputId": "ec4c4e51-a9a1-4235-ee90-80291ced0098"
      },
      "outputs": [
        {
          "output_type": "display_data",
          "data": {
            "text/plain": [
              "<Figure size 640x480 with 1 Axes>"
            ],
            "image/png": "[encoded data removed]"
          },
          "metadata": {}
        }
      ],
      "source": [
        "import matplotlib.pyplot as plt\n",
        "import numpy as np\n",
        "\n",
        "colors = ['blue', 'green', 'red', 'orange','purple','yellow','indigo','teal','orchid']\n",
        "x_pos = np.arange(len(algorithms))\n",
        "\n",
        "fig, ax = plt.subplots()\n",
        "\n",
        "ax.bar(x_pos, accuracy, color=colors)\n",
        "\n",
        "for i, acc in enumerate(accuracy):\n",
        "    ax.text(x_pos[i], acc + 0.01, f'{acc*100:.1f}%', ha='center')\n",
        "\n",
        "ax.set_xticks(x_pos)\n",
        "ax.set_xticklabels(algorithms, rotation=40, ha='right')\n",
        "\n",
        "ax.set_xlabel('Algorithms')\n",
        "ax.set_ylabel('Accuracy')\n",
        "ax.set_title('Accuracy of Algorithms')\n",
        "\n",
        "plt.show()"
      ]
    }
  ],
  "metadata": {
    "colab": {
      "provenance": []
    },
    "kernelspec": {
      "display_name": "Python 3",
      "name": "python3"
    },
    "language_info": {
      "name": "python"
    }
  },
  "nbformat": 4,
  "nbformat_minor": 0
}